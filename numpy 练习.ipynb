{
 "cells": [
  {
   "cell_type": "code",
   "execution_count": 1,
   "id": "bb7d79fd",
   "metadata": {},
   "outputs": [],
   "source": [
    "import numpy as np\n",
    "import random"
   ]
  },
  {
   "cell_type": "code",
   "execution_count": 2,
   "id": "dc64570a",
   "metadata": {},
   "outputs": [
    {
     "name": "stdout",
     "output_type": "stream",
     "text": [
      "[1 2 3]\n",
      "<class 'numpy.ndarray'>\n"
     ]
    }
   ],
   "source": [
    "t1 = np.array([1, 2, 3,])\n",
    "print(t1)\n",
    "print(type(t1))"
   ]
  },
  {
   "cell_type": "code",
   "execution_count": 3,
   "id": "994efe67",
   "metadata": {},
   "outputs": [
    {
     "name": "stdout",
     "output_type": "stream",
     "text": [
      "[ 0  1  2  3  4  5  6  7  8  9 10 11]\n"
     ]
    },
    {
     "data": {
      "text/plain": [
       "dtype('int32')"
      ]
     },
     "execution_count": 3,
     "metadata": {},
     "output_type": "execute_result"
    }
   ],
   "source": [
    "t2 = np.array(range(12))\n",
    "print(t2)\n",
    "t2.dtype"
   ]
  },
  {
   "cell_type": "markdown",
   "id": "b6b69d0d",
   "metadata": {},
   "source": [
    "t3 = np.arange(12)"
   ]
  },
  {
   "cell_type": "code",
   "execution_count": 4,
   "id": "cd686635",
   "metadata": {},
   "outputs": [
    {
     "data": {
      "text/plain": [
       "dtype('int32')"
      ]
     },
     "execution_count": 4,
     "metadata": {},
     "output_type": "execute_result"
    }
   ],
   "source": [
    "t3 = np.arange(12)   # 快速生成从0 到 12 的数字\n",
    "t3.dtype"
   ]
  },
  {
   "cell_type": "code",
   "execution_count": 5,
   "id": "82806140",
   "metadata": {},
   "outputs": [
    {
     "name": "stdout",
     "output_type": "stream",
     "text": [
      "[1 2 3 4 5 6 7 8 9]\n"
     ]
    },
    {
     "data": {
      "text/plain": [
       "dtype('int8')"
      ]
     },
     "execution_count": 5,
     "metadata": {},
     "output_type": "execute_result"
    }
   ],
   "source": [
    "t4 = np.array(range(1, 10), dtype = \"i1\")\n",
    "print(t4)\n",
    "t4.dtype"
   ]
  },
  {
   "cell_type": "code",
   "execution_count": 6,
   "id": "df803c44",
   "metadata": {},
   "outputs": [
    {
     "name": "stdout",
     "output_type": "stream",
     "text": [
      "[ True False  True False False  True]\n"
     ]
    },
    {
     "data": {
      "text/plain": [
       "dtype('bool')"
      ]
     },
     "execution_count": 6,
     "metadata": {},
     "output_type": "execute_result"
    }
   ],
   "source": [
    "# numpy中的bool类型\n",
    "t5 = np.array([1, 0, 1, 0, 0, 1], dtype = bool)\n",
    "print(t5)\n",
    "t5.dtype"
   ]
  },
  {
   "cell_type": "code",
   "execution_count": 7,
   "id": "70f2242b",
   "metadata": {},
   "outputs": [
    {
     "data": {
      "text/plain": [
       "array([1, 0, 1, 0, 0, 1], dtype=int8)"
      ]
     },
     "execution_count": 7,
     "metadata": {},
     "output_type": "execute_result"
    }
   ],
   "source": [
    "#调整数据类型\n",
    "t6 = t5.astype(\"int8\")\n",
    "t6"
   ]
  },
  {
   "cell_type": "code",
   "execution_count": 8,
   "id": "7cc2fb71",
   "metadata": {
    "scrolled": true
   },
   "outputs": [
    {
     "name": "stdout",
     "output_type": "stream",
     "text": [
      "[0.64072221 0.81647881 0.75115636 0.4515972  0.66323522 0.28185491\n",
      " 0.08986404 0.96665054 0.55706402 0.98804574]\n",
      "[0, 1, 2, 3, 4, 5, 6, 7, 8, 9]\n",
      "[0.64 0.82 0.75 0.45 0.66 0.28 0.09 0.97 0.56 0.99]\n"
     ]
    }
   ],
   "source": [
    "t7 = np.array([random.random() for i in range(10)])\n",
    "print(t7)\n",
    "matrix = [i for i in range(10)]\n",
    "print(matrix)\n",
    "\n",
    "t8 = np.round(t7, 2)\n",
    "print(t8)\n"
   ]
  },
  {
   "cell_type": "code",
   "execution_count": 9,
   "id": "319b42a9",
   "metadata": {},
   "outputs": [
    {
     "name": "stdout",
     "output_type": "stream",
     "text": [
      "(12,)\n",
      "[[ 0  1  2  3]\n",
      " [ 4  5  6  7]\n",
      " [ 8  9 10 11]]\n"
     ]
    }
   ],
   "source": [
    "s1 = np.arange(12)\n",
    "print(s1.shape)\n",
    "print(s1.reshape((3, 4)))"
   ]
  },
  {
   "cell_type": "code",
   "execution_count": 10,
   "id": "06dd9a87",
   "metadata": {},
   "outputs": [
    {
     "data": {
      "text/plain": [
       "(2, 3)"
      ]
     },
     "execution_count": 10,
     "metadata": {},
     "output_type": "execute_result"
    }
   ],
   "source": [
    "s2 = np.array([[1, 2, 3], [2, 3, 4]])\n",
    "s2.shape"
   ]
  },
  {
   "cell_type": "code",
   "execution_count": 11,
   "id": "3b6a3ded",
   "metadata": {},
   "outputs": [
    {
     "data": {
      "text/plain": [
       "(2, 2, 3)"
      ]
     },
     "execution_count": 11,
     "metadata": {},
     "output_type": "execute_result"
    }
   ],
   "source": [
    "s3 = np.array([[[0, 2, 3], [2, 3, 4]], [[1, 2, 3], [2, 3, 4]]])\n",
    "s3.shape"
   ]
  },
  {
   "cell_type": "code",
   "execution_count": 12,
   "id": "9f57f43b",
   "metadata": {},
   "outputs": [
    {
     "data": {
      "text/plain": [
       "array([[0, 2, 3],\n",
       "       [2, 3, 4],\n",
       "       [1, 2, 3],\n",
       "       [2, 3, 4]])"
      ]
     },
     "execution_count": 12,
     "metadata": {},
     "output_type": "execute_result"
    }
   ],
   "source": [
    "s3 = s3.reshape((4, 3))\n",
    "s3"
   ]
  },
  {
   "cell_type": "code",
   "execution_count": 13,
   "id": "5e9762f5",
   "metadata": {},
   "outputs": [
    {
     "name": "stdout",
     "output_type": "stream",
     "text": [
      "[0 2 3 2 3 4 1 2 3 2 3 4]\n",
      "[[0 2 3 2 3 4 1 2 3 2 3 4]]\n"
     ]
    }
   ],
   "source": [
    "s4 = s3.reshape((12,))\n",
    "print(s4)\n",
    "s5 = s3.reshape((1, 12))\n",
    "print(s5)"
   ]
  },
  {
   "cell_type": "code",
   "execution_count": 14,
   "id": "7ab03104",
   "metadata": {},
   "outputs": [
    {
     "name": "stdout",
     "output_type": "stream",
     "text": [
      "12\n"
     ]
    },
    {
     "data": {
      "text/plain": [
       "array([0, 2, 3, 2, 3, 4, 1, 2, 3, 2, 3, 4])"
      ]
     },
     "execution_count": 14,
     "metadata": {},
     "output_type": "execute_result"
    }
   ],
   "source": [
    "# 多维数组展平\n",
    "print(s3.shape[0] * s3.shape[1])\n",
    "s3.flatten()"
   ]
  },
  {
   "cell_type": "code",
   "execution_count": 15,
   "id": "dc6240c2",
   "metadata": {},
   "outputs": [
    {
     "name": "stdout",
     "output_type": "stream",
     "text": [
      "[[0 2 3]\n",
      " [2 3 4]\n",
      " [1 2 3]\n",
      " [2 3 4]]\n",
      "[[2 4 5]\n",
      " [4 5 6]\n",
      " [3 4 5]\n",
      " [4 5 6]]\n"
     ]
    }
   ],
   "source": [
    "# 计算\n",
    "print(s3)\n",
    "# 广播机制，每个数字都加2 \n",
    "print(s3 + 2)   \n",
    "tmp = s3 + 2"
   ]
  },
  {
   "cell_type": "code",
   "execution_count": 16,
   "id": "76af03f9",
   "metadata": {},
   "outputs": [
    {
     "name": "stdout",
     "output_type": "stream",
     "text": [
      "[[nan inf inf]\n",
      " [inf inf inf]\n",
      " [inf inf inf]\n",
      " [inf inf inf]]\n"
     ]
    },
    {
     "name": "stderr",
     "output_type": "stream",
     "text": [
      "C:\\Users\\labour\\AppData\\Local\\Temp\\ipykernel_20708\\1073747164.py:1: RuntimeWarning: divide by zero encountered in divide\n",
      "  s3 = s3 / 0\n",
      "C:\\Users\\labour\\AppData\\Local\\Temp\\ipykernel_20708\\1073747164.py:1: RuntimeWarning: invalid value encountered in divide\n",
      "  s3 = s3 / 0\n"
     ]
    }
   ],
   "source": [
    "s3 = s3 / 0\n",
    "print(s3)"
   ]
  },
  {
   "cell_type": "code",
   "execution_count": 17,
   "id": "88f5c891",
   "metadata": {},
   "outputs": [
    {
     "name": "stdout",
     "output_type": "stream",
     "text": [
      "[[ 0  1  2]\n",
      " [ 3  4  5]\n",
      " [ 6  7  8]\n",
      " [ 9 10 11]]\n",
      "[2 4 5 4 5 6 3 4 5 4 5 6]\n",
      "[[ 2  5  7]\n",
      " [ 7  9 11]\n",
      " [ 9 11 13]\n",
      " [13 15 17]]\n"
     ]
    }
   ],
   "source": [
    "s7 = np.arange(0,12).reshape(4, 3)\n",
    "print(s7)\n",
    "print(tmp.flatten())\n",
    "print(tmp + s7)"
   ]
  },
  {
   "cell_type": "code",
   "execution_count": 18,
   "id": "49d2e7ac",
   "metadata": {},
   "outputs": [
    {
     "ename": "ValueError",
     "evalue": "operands could not be broadcast together with shapes (4,3) (10,) ",
     "output_type": "error",
     "traceback": [
      "\u001b[1;31m---------------------------------------------------------------------------\u001b[0m",
      "\u001b[1;31mValueError\u001b[0m                                Traceback (most recent call last)",
      "Cell \u001b[1;32mIn[18], line 3\u001b[0m\n\u001b[0;32m      1\u001b[0m t9 \u001b[38;5;241m=\u001b[39m np\u001b[38;5;241m.\u001b[39marange(\u001b[38;5;241m10\u001b[39m)\n\u001b[0;32m      2\u001b[0m t9\n\u001b[1;32m----> 3\u001b[0m \u001b[38;5;28mprint\u001b[39m(s7 \u001b[38;5;241m-\u001b[39m t9)\n",
      "\u001b[1;31mValueError\u001b[0m: operands could not be broadcast together with shapes (4,3) (10,) "
     ]
    }
   ],
   "source": [
    "t9 = np.arange(10)\n",
    "t9\n",
    "print(s7 - t9)  # 某一维度上形状一样就可以进行计算"
   ]
  },
  {
   "cell_type": "code",
   "execution_count": 19,
   "id": "e493558f",
   "metadata": {},
   "outputs": [],
   "source": [
    "# numpy轴 shape (2, 2, 3)  分别对应0轴 1轴 2轴\n",
    "t10 = np.arange(10).reshape((2, 5))    # 2表示0轴长度为2，5表示1轴长度为5"
   ]
  },
  {
   "cell_type": "code",
   "execution_count": 27,
   "id": "759e7426",
   "metadata": {},
   "outputs": [
    {
     "name": "stdout",
     "output_type": "stream",
     "text": [
      "[[4394029  320053    5931   46245]\n",
      " [7860119  185853   26679       0]\n",
      " [5845909  576597   39774  170708]\n",
      " ...\n",
      " [ 142908    7088      68     437]\n",
      " [  24532    2148      77       0]\n",
      " [ 144039    1574      59       0]]\n",
      "[[7426393   78240   13548     705]\n",
      " [ 494203    2651    1309       0]\n",
      " [ 142819   13119     151    1141]\n",
      " ...\n",
      " [ 170003    6592     127     454]\n",
      " [ 893125   44811     652    2056]\n",
      " [1474925   58532    3223   14396]]\n"
     ]
    }
   ],
   "source": [
    "# numpy读取数据\n",
    "# np.loadtxt(frame, dtype = np.float, delimiter = None, skiprows = 0, usecols = None, unpack = False)\n",
    "# frame文件  dtype数据类型  delimiter 分割的字符串  unpack会实现转置\n",
    "import numpy as np\n",
    "us_file_path = \"./USvideos0123.csv\"\n",
    "gb_file_path = \"./GBvideos0123.csv\"\n",
    "tt1 = np.loadtxt(us_file_path, dtype = \"int\", delimiter = \",\", skiprows = 1)\n",
    "print(tt1)\n",
    "tt2 = np.loadtxt(gb_file_path, dtype = \"int\", delimiter = \",\", skiprows = 1)\n",
    "print(tt2)"
   ]
  },
  {
   "cell_type": "code",
   "execution_count": 31,
   "id": "9306ed20",
   "metadata": {},
   "outputs": [
    {
     "name": "stdout",
     "output_type": "stream",
     "text": [
      "[[ 0  1  2  3  4  5]\n",
      " [ 6  7  8  9 10 11]\n",
      " [12 13 14 15 16 17]\n",
      " [18 19 20 21 22 23]]\n",
      "[[ 0  6 12 18]\n",
      " [ 1  7 13 19]\n",
      " [ 2  8 14 20]\n",
      " [ 3  9 15 21]\n",
      " [ 4 10 16 22]\n",
      " [ 5 11 17 23]]\n",
      "[[ 0  6 12 18]\n",
      " [ 1  7 13 19]\n",
      " [ 2  8 14 20]\n",
      " [ 3  9 15 21]\n",
      " [ 4 10 16 22]\n",
      " [ 5 11 17 23]]\n",
      "[[ 0  6 12 18]\n",
      " [ 1  7 13 19]\n",
      " [ 2  8 14 20]\n",
      " [ 3  9 15 21]\n",
      " [ 4 10 16 22]\n",
      " [ 5 11 17 23]]\n"
     ]
    }
   ],
   "source": [
    "# numpy中的转置\n",
    "t2 = np.arange(24).reshape((4, 6))\n",
    "print(t2)\n",
    "print(t2.transpose())\n",
    "print(t2.T)\n",
    "print(t2.swapaxes(1, 0))"
   ]
  },
  {
   "cell_type": "code",
   "execution_count": 44,
   "id": "ade9211e",
   "metadata": {},
   "outputs": [
    {
     "name": "stdout",
     "output_type": "stream",
     "text": [
      "[[7426393   78240   13548     705]\n",
      " [ 494203    2651    1309       0]\n",
      " [ 142819   13119     151    1141]\n",
      " ...\n",
      " [ 170003    6592     127     454]\n",
      " [ 893125   44811     652    2056]\n",
      " [1474925   58532    3223   14396]]\n",
      "[142819  13119    151   1141]\n",
      "[[ 142819   13119     151    1141]\n",
      " [1580028   65729    1529    3598]\n",
      " [  40592    5019      57     490]\n",
      " ...\n",
      " [ 170003    6592     127     454]\n",
      " [ 893125   44811     652    2056]\n",
      " [1474925   58532    3223   14396]]\n",
      "[[ 142819   13119     151    1141]\n",
      " [  65453    2761      33     223]\n",
      " [1121715   65988     591   51025]]\n",
      "---------------------------------列操作---------------------------------\n",
      "[[7426393   78240   13548     705]\n",
      " [ 494203    2651    1309       0]\n",
      " [ 142819   13119     151    1141]\n",
      " ...\n",
      " [ 170003    6592     127     454]\n",
      " [ 893125   44811     652    2056]\n",
      " [1474925   58532    3223   14396]]\n",
      "[7426393  494203  142819 ...  170003  893125 1474925]\n",
      "[[13548   705]\n",
      " [ 1309     0]\n",
      " [  151  1141]\n",
      " ...\n",
      " [  127   454]\n",
      " [  652  2056]\n",
      " [ 3223 14396]]\n",
      "[[7426393   13548]\n",
      " [ 494203    1309]\n",
      " [ 142819     151]\n",
      " ...\n",
      " [ 170003     127]\n",
      " [ 893125     652]\n",
      " [1474925    3223]]\n",
      "1141\n",
      "[[13119   151  1141]\n",
      " [65729  1529  3598]\n",
      " [ 5019    57   490]]\n",
      "[7426393   13119    1141]\n"
     ]
    }
   ],
   "source": [
    "# numpy的索引和切片 与列表十分类似\n",
    "print(tt2)\n",
    "# 取行\n",
    "print(tt2[2])\n",
    "# 取连续多行\n",
    "print(tt2[2:])\n",
    "# 取不连续多行\n",
    "print(tt2[[2, 8, 10]])\n",
    "\n",
    "print(\"---------------------------------列操作---------------------------------\")\n",
    "\n",
    "# 取列操作\n",
    "# 取单列\n",
    "print(tt2)\n",
    "print(tt2[:, 0])\n",
    "# 取连续多列\n",
    "print(tt2[:, 2:])\n",
    "# 取不连续多列\n",
    "print(tt2[:, [0, 2]])\n",
    "# 取行和列 取第3行 第4列的值\n",
    "print(tt2[2, 3])\n",
    "# 取多行和多列 取第3行到第5行，第2列到第4列的结果\n",
    "# 取的是行和列交叉点的位置\n",
    "print(tt2[2:5, 1:4])\n",
    "# 取多个不相邻的点 选出来的结果是（0,0）、(2,1)、(2,3)\n",
    "print(tt2[[0, 2, 2], [0, 1, 3]])"
   ]
  },
  {
   "cell_type": "code",
   "execution_count": 53,
   "id": "2b4e7b48",
   "metadata": {},
   "outputs": [
    {
     "name": "stdout",
     "output_type": "stream",
     "text": [
      "[[ 0  1  2  3  4  5]\n",
      " [ 6  7  8  9 10 11]\n",
      " [12 13 14 15 16 17]\n",
      " [18 19 20 21 22 23]]\n",
      "[[ 0  1 10 10  4  5]\n",
      " [ 6  7 10 10 10 11]\n",
      " [12 13 10 10 16 17]\n",
      " [18 19 10 10 22 23]]\n",
      "[[ True  True False False  True  True]\n",
      " [ True  True False False False False]\n",
      " [False False False False False False]\n",
      " [False False False False False False]]\n",
      "[[ 3  3 10 10  3  3]\n",
      " [ 3  3 10 10 10 11]\n",
      " [12 13 10 10 16 17]\n",
      " [18 19 10 10 22 23]]\n",
      "[[ 0  0 20 20  0  0]\n",
      " [ 0  0 20 20 20 20]\n",
      " [20 20 20 20 20 20]\n",
      " [20 20 20 20 20 20]]\n",
      "[[ 3  3 10 10  3  3]\n",
      " [ 3  3 10 10 10 11]\n",
      " [12 13 10 10 16 17]\n",
      " [18 19 10 10 22 23]]\n",
      "[[10 10 10 10 10 10]\n",
      " [10 10 10 10 10 11]\n",
      " [12 13 10 10 16 17]\n",
      " [18 18 10 10 18 18]]\n"
     ]
    }
   ],
   "source": [
    "# numpy中数值的修改\n",
    "tt3 = np.arange(24).reshape((4, 6))\n",
    "print(tt3)\n",
    "# 修改操作\n",
    "tt3[:, 2:4] = 10\n",
    "print(tt3)\n",
    "# 如何将tt3中小于10的数赋值为3\n",
    "print(tt3 < 10)\n",
    "tt3[tt3 < 10] = 3\n",
    "print(tt3)\n",
    "# tt3中小于10的数字替换乘0，把大于20的数字替换成20\n",
    "tt4 = np.where(tt3 < 10, 0, 20)\n",
    "print(tt4)\n",
    "\n",
    "print(tt3)\n",
    "# numpy中的clip 将小于10的数替换成10，将大于18的数替换成18\n",
    "print(tt3.clip(10, 18))"
   ]
  },
  {
   "cell_type": "code",
   "execution_count": 65,
   "id": "81536af1",
   "metadata": {},
   "outputs": [
    {
     "name": "stdout",
     "output_type": "stream",
     "text": [
      "False\n",
      "True\n",
      "[[ 3.  3. nan 10.  3.  3.]\n",
      " [ 3.  3. nan 10. 10. 11.]\n",
      " [12. 13. nan 10. 16. 17.]\n",
      " [18. 19. nan 10. 22. 23.]]\n",
      "4\n",
      "[[ 3.  3.  0. 10.  3.  3.]\n",
      " [ 3.  3.  0. 10. 10. 11.]\n",
      " [12. 13.  0. 10. 16. 17.]\n",
      " [18. 19.  0. 10. 22. 23.]]\n"
     ]
    },
    {
     "data": {
      "text/plain": [
       "array([22., 37., 68., 92.])"
      ]
     },
     "execution_count": 65,
     "metadata": {},
     "output_type": "execute_result"
    }
   ],
   "source": [
    "# numpy中的nan和inf\n",
    "# nan: not a number\n",
    "# inf: infinity \n",
    "\n",
    "# 一、两个nan是不相等的\n",
    "print(np.nan == np.nan)\n",
    "print(np.nan != np.nan)\n",
    "# 二、判断数组中nan的个数\n",
    "tt3 = tt3.astype(\"float\")\n",
    "tt3[:,2] = np.nan\n",
    "print(tt3)\n",
    "print(np.count_nonzero(tt3 != tt3))\n",
    "# 三、把nan替换为0\n",
    "tt3[np.isnan(tt3)] = 0\n",
    "print(tt3)\n",
    "# 四、nan与任何值计算都为nan\n",
    "\n",
    "np.sum(tt3, axis = 1)\n",
    "\n",
    "# 如果将nan全部替换为0，如果替换之前平均值大于0，替换之后均值会变小，一般方法是将缺失的值替换为均值或者中值"
   ]
  },
  {
   "cell_type": "code",
   "execution_count": 70,
   "id": "8bc5cab0",
   "metadata": {},
   "outputs": [
    {
     "name": "stdout",
     "output_type": "stream",
     "text": [
      "[[ 3.  3.  0. 10.  3.  3.]\n",
      " [ 3.  3.  0. 10. 10. 11.]\n",
      " [12. 13.  0. 10. 16. 17.]\n",
      " [18. 19.  0. 10. 22. 23.]]\n",
      "[36. 38.  0. 40. 51. 54.]\n",
      "[ 9.    9.5   0.   10.   12.75 13.5 ]\n",
      "[ 7.5  8.   0.  10.  13.  14. ]\n",
      "[18. 19.  0. 10. 22. 23.]\n",
      "[ 3.  3.  0. 10.  3.  3.]\n",
      "[15. 16.  0.  0. 19. 20.]\n"
     ]
    }
   ],
   "source": [
    "# numpy中的常见统计函数\n",
    "print(tt3)\n",
    "# 求和\n",
    "print(np.sum(tt3, axis = 0))\n",
    "# 均值\n",
    "print(tt3.mean(axis = 0))\n",
    "print(np.median(tt3, axis = 0))\n",
    "# 求最大值\n",
    "print(tt3.max(axis = 0))\n",
    "# 求最小值\n",
    "print(tt3.min(axis = 0))\n",
    "# 求极差 最大值和最小值之差\n",
    "print(np.ptp(tt3, axis = 0))\n",
    "# t.std(axis = none)\n",
    "# 默认返回多维数组全部的统计结果 指定轴则返回轴上的\n"
   ]
  },
  {
   "cell_type": "code",
   "execution_count": 3,
   "id": "8135400c",
   "metadata": {},
   "outputs": [
    {
     "name": "stdout",
     "output_type": "stream",
     "text": [
      "[[ 0.  1.  2.  3.]\n",
      " [ 4.  5.  6.  7.]\n",
      " [ 8.  9. 10. 11.]]\n",
      "[[ 0.  1.  2.  3.]\n",
      " [ 4.  5. nan nan]\n",
      " [ 8.  9. 10. 11.]]\n"
     ]
    }
   ],
   "source": [
    "import numpy as np\n",
    "t1 = np.arange(12).reshape((3, 4)).astype(\"float\")\n",
    "print(t1)\n",
    "t1[1, 2:] = np.nan\n",
    "print(t1)"
   ]
  },
  {
   "cell_type": "code",
   "execution_count": 4,
   "id": "ca040cdd",
   "metadata": {},
   "outputs": [
    {
     "name": "stdout",
     "output_type": "stream",
     "text": [
      "[[ 0  1  2  3  4  5]\n",
      " [ 6  7  8  9 10 11]]\n",
      "[[12 13 14 15 16 17]\n",
      " [18 19 20 21 22 23]]\n",
      "[[ 0  1  2  3  4  5]\n",
      " [ 6  7  8  9 10 11]\n",
      " [12 13 14 15 16 17]\n",
      " [18 19 20 21 22 23]]\n",
      "[[ 0  1  2  3  4  5 12 13 14 15 16 17]\n",
      " [ 6  7  8  9 10 11 18 19 20 21 22 23]]\n"
     ]
    }
   ],
   "source": [
    "# 数组的拼接\n",
    "t1 = np.arange(12).reshape((2, 6))\n",
    "print(t1)\n",
    "t2 = np.arange(12,24).reshape((2, 6))\n",
    "print(t2)\n",
    "# 竖直拼接\n",
    "print(np.vstack((t1, t2)))\n",
    "# 水平拼接\n",
    "print(np.hstack((t1, t2))) "
   ]
  },
  {
   "cell_type": "code",
   "execution_count": 5,
   "id": "e194dbab",
   "metadata": {},
   "outputs": [
    {
     "name": "stdout",
     "output_type": "stream",
     "text": [
      "[[12 13 14 15]\n",
      " [16 17 18 19]\n",
      " [20 21 22 23]]\n",
      "[[12 13 14 15]\n",
      " [20 21 22 23]\n",
      " [16 17 18 19]]\n",
      "[[14 13 12 15]\n",
      " [22 21 20 23]\n",
      " [18 17 16 19]]\n"
     ]
    }
   ],
   "source": [
    "# 数组的行列交换\n",
    "t = np.arange(12, 24).reshape((3, 4))\n",
    "print(t)\n",
    "# 行进行交换\n",
    "t[[1, 2],:] = t[[2, 1],:]\n",
    "print(t)\n",
    "# 列进行交换\n",
    "t[:, [0, 2]] = t[:, [2, 0]]\n",
    "print(t)"
   ]
  },
  {
   "cell_type": "code",
   "execution_count": null,
   "id": "8ec96278",
   "metadata": {},
   "outputs": [],
   "source": []
  }
 ],
 "metadata": {
  "kernelspec": {
   "display_name": "Python 3 (ipykernel)",
   "language": "python",
   "name": "python3"
  },
  "language_info": {
   "codemirror_mode": {
    "name": "ipython",
    "version": 3
   },
   "file_extension": ".py",
   "mimetype": "text/x-python",
   "name": "python",
   "nbconvert_exporter": "python",
   "pygments_lexer": "ipython3",
   "version": "3.11.5"
  }
 },
 "nbformat": 4,
 "nbformat_minor": 5
}
